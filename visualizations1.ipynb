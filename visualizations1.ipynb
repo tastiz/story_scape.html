{
  "nbformat": 4,
  "nbformat_minor": 0,
  "metadata": {
    "colab": {
      "name": "visualizations1.ipynb",
      "provenance": [],
      "authorship_tag": "ABX9TyORge1lbNM1xIJ0nRQvcDzi",
      "include_colab_link": true
    },
    "kernelspec": {
      "name": "python3",
      "display_name": "Python 3"
    }
  },
  "cells": [
    {
      "cell_type": "markdown",
      "metadata": {
        "id": "view-in-github",
        "colab_type": "text"
      },
      "source": [
        "<a href=\"https://colab.research.google.com/github/tastiz/story_scape.html/blob/master/visualizations1.ipynb\" target=\"_parent\"><img src=\"https://colab.research.google.com/assets/colab-badge.svg\" alt=\"Open In Colab\"/></a>"
      ]
    },
    {
      "cell_type": "code",
      "metadata": {
        "id": "nrmFVHIHzfa4",
        "colab_type": "code",
        "colab": {}
      },
      "source": [
        "!pip install seaborn==0.10.0\n"
      ],
      "execution_count": 0,
      "outputs": []
    },
    {
      "cell_type": "code",
      "metadata": {
        "id": "nN0ufxVdz1O_",
        "colab_type": "code",
        "colab": {
          "base_uri": "https://localhost:8080/",
          "height": 285
        },
        "outputId": "91e489af-7245-486d-b719-519e2a1cb178"
      },
      "source": [
        "from sqlalchemy import create_engine \n",
        "import pandas as pd\n",
        "import seaborn as sns\n",
        "sns.set()\n",
        "\n",
        "#suppresss warnings\n",
        "import warnings\n",
        "warnings.filterwarnings(\"ignore\")\n",
        "\n",
        "postgres_user = 'dabc_student'\n",
        "postgres_pw = '7*.8G9QH21'\n",
        "postgres_host = '142.93.121.174'\n",
        "postgres_port = '5432'\n",
        "postgres_db = 'studentsperformance'\n",
        "\n",
        "engine = create_engine('postgresql://{}:{}@{}:{}/{}'.format(\n",
        "    postgres_user, postgres_pw, postgres_host, postgres_port, postgres_db))\n",
        "\n",
        "#creat the desired database\n",
        "students_df = pd.read_sql_table('studentsperformance', con=engine)\n",
        "\n",
        "engine.dispose()\n",
        "#rough schema of the table\n",
        "#students_df.info()\n",
        "\n",
        "#produces the relative stastics of specific columns\n",
        "#students_df[['math score', 'writing score', 'reading score']].describe()\n",
        "\n",
        "#histogram of the math scores\n",
        "#ax = sns.distplot(students_df['math score'])\n",
        "\n",
        "#histogram with an altered bin size\n",
        "#ax = sns.distplot(students_df['writing score'], bins=20)\n",
        "\n",
        "#histogram with no line of best fit\n",
        "ax = sns.distplot(students_df['reading score'], kde=False)\n"
      ],
      "execution_count": 18,
      "outputs": [
        {
          "output_type": "display_data",
          "data": {
            "image/png": "[encoded data removed]",
            "text/plain": [
              "<Figure size 432x288 with 1 Axes>"
            ]
          },
          "metadata": {
            "tags": []
          }
        }
      ]
    }
  ]
}