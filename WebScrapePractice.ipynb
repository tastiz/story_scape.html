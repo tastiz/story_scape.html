{
  "nbformat": 4,
  "nbformat_minor": 0,
  "metadata": {
    "colab": {
      "name": "WebScrapePractice.ipynb",
      "provenance": [],
      "authorship_tag": "ABX9TyMYmHBi2cTwA/6KrCaIgkjd",
      "include_colab_link": true
    },
    "kernelspec": {
      "name": "python3",
      "display_name": "Python 3"
    }
  },
  "cells": [
    {
      "cell_type": "markdown",
      "metadata": {
        "id": "view-in-github",
        "colab_type": "text"
      },
      "source": [
        "<a href=\"https://colab.research.google.com/github/tastiz/story_scape.html/blob/master/WebScrapePractice.ipynb\" target=\"_parent\"><img src=\"https://colab.research.google.com/assets/colab-badge.svg\" alt=\"Open In Colab\"/></a>"
      ]
    },
    {
      "cell_type": "code",
      "metadata": {
        "id": "UlSMlKLNRUqL",
        "colab_type": "code",
        "colab": {}
      },
      "source": [
        "import requests\n",
        "url = ' http://pun.me/pages/funny-jokes.php'\n",
        "response = requests.get(url)\n",
        "\n",
        "if(response.ok):\n",
        "  data = response.text\n",
        "  \n",
        "\n",
        "from bs4 import BeautifulSoup\n",
        "\n",
        "soup = BeautifulSoup(data, 'html.parser')\n",
        "\n",
        "#print(soup.prettify())\n",
        "\n",
        "div = soup.find('div', class_='content')\n",
        "list = div.find('ol')\n",
        "items = list.find_all('li')\n",
        "jokes = [joke.get_text() for joke in items]"
      ],
      "execution_count": 0,
      "outputs": []
    },
    {
      "cell_type": "code",
      "metadata": {
        "id": "UiY_GcgEUCWU",
        "colab_type": "code",
        "colab": {
          "base_uri": "https://localhost:8080/",
          "height": 34
        },
        "outputId": "d9fcdd5c-715a-4097-e1d0-d06744c57ce8"
      },
      "source": [
        "url = 'https://stackoverflow.com/jobs'\n",
        "response = requests.get(url)\n",
        "\n",
        "# make sure we got a valid response\n",
        "if(response.ok):\n",
        "  # get the full data from the response\n",
        "  data = response.text\n",
        "  soup = BeautifulSoup(data, 'html.parser')\n",
        "  \n",
        "  # find all elements with class *-job-summary*\n",
        "  summary =soup.find_all(class_='-job-summary')\n",
        "  #print(summary)\n",
        "\n",
        "titles = soup.find_all(class_='.-title')\n",
        "#print(titles)\n",
        "\n",
        "title_headings = soup.select('.-title > h2')\n",
        "\n",
        "title_links = soup.select('.title > h2 > a')\n",
        "\n",
        "jobs = [job.get_text() for job in title_links]\n",
        "\n",
        "company_spans = soup.select('-.job-summary > .-company > span:nth-of-type(1)')\n",
        "companies = [company.get_text() for company in company_spans]\n",
        "#print(companies)\n",
        "\n",
        "raw_jobs = soup.select('.-job-summary')\n",
        "jobs = []\n",
        "for job in raw_jobs:\n",
        "  title = job.select_one('.title > h2 > a').get_text()\n",
        "  company = job.select_one('.-company > span:nth-of-type(1)').get_text()\n",
        "  tags = [tag.get_text() for tag in job.select('.-tags a')] \n",
        "  job = {'title': title, 'company': company, 'tags':tags}\n",
        "  jobs.append(job)\n",
        "print(jobs)"
      ],
      "execution_count": 26,
      "outputs": [
        {
          "output_type": "stream",
          "text": [
            "[]\n"
          ],
          "name": "stdout"
        }
      ]
    },
    {
      "cell_type": "code",
      "metadata": {
        "id": "TSeyntHlYa0f",
        "colab_type": "code",
        "colab": {
          "base_uri": "https://localhost:8080/",
          "height": 34
        },
        "outputId": "dacdf63a-dab6-4efe-d86a-47dfe619ab31"
      },
      "source": [
        "import requests\n",
        "from bs4 import BeautifulSoup\n",
        "url = 'https://stackoverflow.com/jobs'\n",
        "response = requests.get(url)\n",
        "data = response.text\n",
        "soup = BeautifulSoup(data, 'html.parser')\n",
        "\n",
        "raw_jobs = soup.select('.-job-summary')\n",
        "jobs = []\n",
        "for job in raw_jobs:\n",
        "  title = job.select_one('.title > h2 > a').get_text()\n",
        "  company = job.select_one('.-company > span:nth-of-type(1)').get_text()\n",
        "  tags = [tag.get_text() for tag in job.select('.-tags a')] \n",
        "  job = {'title': title, 'company': company, 'tags':tags}\n",
        "  jobs.append(job)\n",
        "print(jobs)"
      ],
      "execution_count": 27,
      "outputs": [
        {
          "output_type": "stream",
          "text": [
            "[]\n"
          ],
          "name": "stdout"
        }
      ]
    }
  ]
}