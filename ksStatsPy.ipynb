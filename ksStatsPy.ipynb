{
  "nbformat": 4,
  "nbformat_minor": 0,
  "metadata": {
    "colab": {
      "name": "ksStatsPy.ipynb",
      "provenance": [],
      "authorship_tag": "ABX9TyP+yj8BZ3DSw088zIhxKDA2",
      "include_colab_link": true
    },
    "kernelspec": {
      "name": "python3",
      "display_name": "Python 3"
    }
  },
  "cells": [
    {
      "cell_type": "markdown",
      "metadata": {
        "id": "view-in-github",
        "colab_type": "text"
      },
      "source": [
        "<a href=\"https://colab.research.google.com/github/tastiz/story_scape.html/blob/master/ksStatsPy.ipynb\" target=\"_parent\"><img src=\"https://colab.research.google.com/assets/colab-badge.svg\" alt=\"Open In Colab\"/></a>"
      ]
    },
    {
      "cell_type": "code",
      "metadata": {
        "id": "7prv-oX09b5b",
        "colab_type": "code",
        "colab": {
          "base_uri": "https://localhost:8080/",
          "height": 204
        },
        "outputId": "9578d7a4-186e-4d0c-a7c2-0ded3bbc9add"
      },
      "source": [
        "# To keep the page organized do all imports here\n",
        "from sqlalchemy import create_engine\n",
        "import pandas as pd\n",
        "from scipy import stats\n",
        "\n",
        "# Database credentials\n",
        "postgres_user = 'dabc_student'\n",
        "postgres_pw = '7*.8G9QH21'\n",
        "postgres_host = '142.93.121.174'\n",
        "postgres_port = '5432'\n",
        "postgres_db = 'kickstarterprojects'\n",
        "\n",
        "# use the credentials to start a connection\n",
        "engine = create_engine('postgresql://{}:{}@{}:{}/{}'.format(\n",
        "    postgres_user, postgres_pw, postgres_host, postgres_port, postgres_db))\n",
        "\n",
        "projects_df = pd.read_sql_table('ksprojects', con=engine)\n",
        "\n",
        "# remove the connection\n",
        "engine.dispose()\n",
        "\n",
        "#projects_df.shape\n",
        "\n",
        "#describes column name and fill tyope\n",
        "#projects_df.info()\n",
        "\n",
        "#projects_df.head(2)\n",
        "\n",
        "# count the number of unique values in this column\n",
        "projects_df['category'].nunique()\n",
        "\n",
        "# find the frequency of each value in the column\n",
        "category_counts = projects_df['category'].value_counts()\n",
        "\n",
        "# only print the first 10, because 158 are too many to print\n",
        "#category_counts.head(10)\n",
        "\n",
        "d"
      ],
      "execution_count": 6,
      "outputs": [
        {
          "output_type": "execute_result",
          "data": {
            "text/plain": [
              "Product Design    3444\n",
              "Documentary       2969\n",
              "Music             2740\n",
              "Shorts            2407\n",
              "Tabletop Games    2208\n",
              "Food              2126\n",
              "Video Games       2011\n",
              "Film & Video      1828\n",
              "Fiction           1670\n",
              "Fashion           1584\n",
              "Name: category, dtype: int64"
            ]
          },
          "metadata": {
            "tags": []
          },
          "execution_count": 6
        }
      ]
    }
  ]
}