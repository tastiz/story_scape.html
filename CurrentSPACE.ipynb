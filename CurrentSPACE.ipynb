{
  "nbformat": 4,
  "nbformat_minor": 0,
  "metadata": {
    "colab": {
      "name": "CurrentSPACE.ipynb",
      "provenance": [],
      "authorship_tag": "ABX9TyNLDywz+3st9czz+1Gh6JBb",
      "include_colab_link": true
    },
    "kernelspec": {
      "name": "python3",
      "display_name": "Python 3"
    }
  },
  "cells": [
    {
      "cell_type": "markdown",
      "metadata": {
        "id": "view-in-github",
        "colab_type": "text"
      },
      "source": [
        "<a href=\"https://colab.research.google.com/github/tastiz/story_scape.html/blob/master/CurrentSPACE.ipynb\" target=\"_parent\"><img src=\"https://colab.research.google.com/assets/colab-badge.svg\" alt=\"Open In Colab\"/></a>"
      ]
    },
    {
      "cell_type": "code",
      "metadata": {
        "id": "rJ5dfWIjyI5F",
        "colab_type": "code",
        "outputId": "011116d9-e878-479b-9b61-60d891baa873",
        "colab": {
          "base_uri": "https://localhost:8080/",
          "height": 54
        }
      },
      "source": [
        "import requests\n",
        "\n",
        "url = 'https://www.space.com/news'\n",
        "response = requests.get(url)\n",
        "\n",
        "if(response.ok):\n",
        "  data = response.text\n",
        "  #print(response.ok)\n",
        "\n",
        "from bs4 import BeautifulSoup\n",
        "\n",
        "soup = BeautifulSoup(data, 'html.parser')\n",
        "\n",
        "div = soup.find('div', class_=\"listingResults mixed\")\n",
        "\n",
        "#finds the article title and creates a list with the headliens\n",
        "article_name = div.find_all('h3', class_=\"article-name\")\n",
        "headlines = [headline.get_text() for headline in article_name]\n",
        "clean_headlines = [headline.strip('\\n') for headline in headlines]\n",
        "news_list = []\n",
        "for article_title in clean_headlines:\n",
        "  news_list.append(article_title)\n",
        "\n",
        "#finding the author name and stripping it clean\n",
        "author_fullname = div.find_all('span', class_=\"by-author\")\n",
        "authors = [author.get_text() for author in author_fullname]\n",
        "clean_authors = [name.strip('\\n') for name in authors]\n",
        "more_clean_authors = [name.strip('By\\n\\n') for name in clean_authors]\n",
        "author_list = []\n",
        "for author_name in more_clean_authors:\n",
        "  author_list.append(author_name)\n",
        "\n",
        "#############\n",
        "#not currently able to strip the junk around the timestamp\n",
        "time_stamps = div.find_all('time', class_=\"published-date relative-date\")\n",
        "clean_time = [time.get_text() for time in time_stamps]\n",
        "time_list = []\n",
        "for ind_time in time_stamps:\n",
        "  time_list.append(ind_time)\n",
        "for the_time in time_list:\n",
        "  str(the_time).strip('</time>')\n",
        "\n",
        "#creates a cleaned list of the article summaries\n",
        "synopsis_all = div.find_all('p', class_=\"synopsis\")\n",
        "summaries = [summary.get_text() for summary in synopsis_all]\n",
        "clean_summaries = [summary.strip('\\n') for summary in summaries]\n",
        "synopsis_list = []\n",
        "for abreviated in clean_summaries:\n",
        "  synopsis_list.append(abreviated)\n",
        "\n",
        "##############\n",
        "#attempt at making a dictionary but did not match the elements together\n",
        "spacenews = {'headline': title_list, 'author': author_list, 'summary': synopsis_list}\n",
        "\n",
        "##############\n",
        "#attempt to make a list with the elements together\n",
        "full_story = []\n",
        "for article_title in clean_headlines:\n",
        "  for author_name in more_clean_authors:\n",
        "    for abreviated in clean_summaries:\n",
        "      full_story.append(article_title + ' by ' + author_name + ': ' + abreviated)\n"
      ],
      "execution_count": 0,
      "outputs": [
        {
          "output_type": "stream",
          "text": [
            "[<time class=\"published-date relative-date\" data-published-date=\"2020-02-11T22:00:48Z\" datetime=\"2020-02-11T22:00:48Z\"></time>, <time class=\"published-date relative-date\" data-published-date=\"2020-02-11T21:00:05Z\" datetime=\"2020-02-11T21:00:05Z\"></time>, <time class=\"published-date relative-date\" data-published-date=\"2020-02-11T18:56:04Z\" datetime=\"2020-02-11T18:56:04Z\"></time>, <time class=\"published-date relative-date\" data-published-date=\"2020-02-11T17:00:05Z\" datetime=\"2020-02-11T17:00:05Z\"></time>, <time class=\"published-date relative-date\" data-published-date=\"2020-02-11T16:09:28Z\" datetime=\"2020-02-11T16:09:28Z\"></time>, <time class=\"published-date relative-date\" data-published-date=\"2020-02-11T14:47:57Z\" datetime=\"2020-02-11T14:47:57Z\"></time>, <time class=\"published-date relative-date\" data-published-date=\"2020-02-11T12:34:35Z\" datetime=\"2020-02-11T12:34:35Z\"></time>, <time class=\"published-date relative-date\" data-published-date=\"2020-02-11T12:29:55Z\" datetime=\"2020-02-11T12:29:55Z\"></time>, <time class=\"published-date relative-date\" data-published-date=\"2020-02-11T12:26:24Z\" datetime=\"2020-02-11T12:26:24Z\"></time>, <time class=\"published-date relative-date\" data-published-date=\"2020-02-11T12:16:58Z\" datetime=\"2020-02-11T12:16:58Z\"></time>, <time class=\"published-date relative-date\" data-published-date=\"2020-02-11T08:52:30Z\" datetime=\"2020-02-11T08:52:30Z\"></time>, <time class=\"published-date relative-date\" data-published-date=\"2020-02-10T21:52:32Z\" datetime=\"2020-02-10T21:52:32Z\"></time>, <time class=\"published-date relative-date\" data-published-date=\"2020-02-10T21:12:00Z\" datetime=\"2020-02-10T21:12:00Z\"></time>, <time class=\"published-date relative-date\" data-published-date=\"2020-02-10T19:03:51Z\" datetime=\"2020-02-10T19:03:51Z\"></time>, <time class=\"published-date relative-date\" data-published-date=\"2020-02-10T18:30:09Z\" datetime=\"2020-02-10T18:30:09Z\"></time>, <time class=\"published-date relative-date\" data-published-date=\"2020-02-10T13:14:51Z\" datetime=\"2020-02-10T13:14:51Z\"></time>, <time class=\"published-date relative-date\" data-published-date=\"2020-02-10T12:00:26Z\" datetime=\"2020-02-10T12:00:26Z\"></time>, <time class=\"published-date relative-date\" data-published-date=\"2020-02-10T12:00:06Z\" datetime=\"2020-02-10T12:00:06Z\"></time>, <time class=\"published-date relative-date\" data-published-date=\"2020-02-10T11:30:08Z\" datetime=\"2020-02-10T11:30:08Z\"></time>, <time class=\"published-date relative-date\" data-published-date=\"2020-02-10T11:00:38Z\" datetime=\"2020-02-10T11:00:38Z\"></time>]\n"
          ],
          "name": "stdout"
        }
      ]
    }
  ]
}