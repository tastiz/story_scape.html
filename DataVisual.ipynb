{
  "nbformat": 4,
  "nbformat_minor": 0,
  "metadata": {
    "colab": {
      "name": "DataVisual.ipynb",
      "provenance": [],
      "authorship_tag": "ABX9TyMzw7nY1zquhsKGOhvD0b3N",
      "include_colab_link": true
    },
    "kernelspec": {
      "name": "python3",
      "display_name": "Python 3"
    }
  },
  "cells": [
    {
      "cell_type": "markdown",
      "metadata": {
        "id": "view-in-github",
        "colab_type": "text"
      },
      "source": [
        "<a href=\"https://colab.research.google.com/github/tastiz/story_scape.html/blob/master/DataVisual.ipynb\" target=\"_parent\"><img src=\"https://colab.research.google.com/assets/colab-badge.svg\" alt=\"Open In Colab\"/></a>"
      ]
    },
    {
      "cell_type": "code",
      "metadata": {
        "id": "zgC6hWow-J--",
        "colab_type": "code",
        "colab": {}
      },
      "source": [
        "from sqlalchemy import create_engine \n",
        "import pandas as pd\n",
        "import seaborn as sns\n",
        "import matplotlib.pyplot as plt\n",
        "sns.set()\n",
        "\n",
        "#suppresss warnings\n",
        "import warnings\n",
        "warnings.filterwarnings(\"ignore\")\n",
        "\n",
        "postgres_user = 'dabc_student'\n",
        "postgres_pw = '7*.8G9QH21'\n",
        "postgres_host = '142.93.121.174'\n",
        "postgres_port = '5432'\n",
        "postgres_db = 'houseprices'\n",
        "\n",
        "engine = create_engine('postgresql://{}:{}@{}:{}/{}'.format(\n",
        "    postgres_user, postgres_pw, postgres_host, postgres_port, postgres_db))\n",
        "\n",
        "#creat the desired database\n",
        "houseprices_df = pd.read_sql_table('houseprices', con=engine)\n",
        "\n",
        "engine.dispose()\n",
        "\n",
        "\n",
        "\n",
        "sns.set()\n"
      ],
      "execution_count": 0,
      "outputs": []
    },
    {
      "cell_type": "markdown",
      "metadata": {
        "id": "jM_yAsiFBjyp",
        "colab_type": "text"
      },
      "source": [
        "Illustrates the distribution of saleprice"
      ]
    },
    {
      "cell_type": "code",
      "metadata": {
        "id": "VqhnfkxVBh_y",
        "colab_type": "code",
        "colab": {}
      },
      "source": [
        "sx = sns.distplot(houseprices_df[\"saleprice\"])"
      ],
      "execution_count": 0,
      "outputs": []
    },
    {
      "cell_type": "markdown",
      "metadata": {
        "id": "7R3x8-QgBYqt",
        "colab_type": "text"
      },
      "source": [
        "Illustrates the distribution of lotarea"
      ]
    },
    {
      "cell_type": "code",
      "metadata": {
        "id": "Luer8GDCBXjA",
        "colab_type": "code",
        "colab": {}
      },
      "source": [
        "px = sns.distplot(houseprices_df[\"lotarea\"])"
      ],
      "execution_count": 0,
      "outputs": []
    },
    {
      "cell_type": "markdown",
      "metadata": {
        "id": "Tsw-qu00BMkB",
        "colab_type": "text"
      },
      "source": [
        "Using a boxplot, shows how overall condtion affects sales price, separating the charts by presences of central air"
      ]
    },
    {
      "cell_type": "code",
      "metadata": {
        "id": "lLx9RQ-yBHXQ",
        "colab_type": "code",
        "colab": {}
      },
      "source": [
        "sns.boxplot(y=\"saleprice\", hue=\"overallcond\", x=\"centralair\", data=houseprices_df)"
      ],
      "execution_count": 0,
      "outputs": []
    },
    {
      "cell_type": "markdown",
      "metadata": {
        "id": "DBltdjf7BBBT",
        "colab_type": "text"
      },
      "source": [
        "No correlation between lotarea and saleprice"
      ]
    },
    {
      "cell_type": "code",
      "metadata": {
        "id": "6JkrqvCEA9RC",
        "colab_type": "code",
        "colab": {}
      },
      "source": [
        "sns.scatterplot(y=\"saleprice\", x=\"lotarea\", data=houseprices_df)"
      ],
      "execution_count": 0,
      "outputs": []
    }
  ]
}